{
 "cells": [
  {
   "cell_type": "markdown",
   "metadata": {},
   "source": [
    "## Visual Processing"
   ]
  },
  {
   "cell_type": "markdown",
   "metadata": {},
   "source": [
    "### 1. Import Libraries"
   ]
  },
  {
   "cell_type": "code",
   "execution_count": 1,
   "metadata": {},
   "outputs": [],
   "source": [
    "## Torch libraries\n",
    "import torch\n",
    "import torch.nn as nn\n",
    "from torchvision import models\n",
    "from torchvision import transforms\n",
    "\n",
    "## Import \n",
    "from skimage import io\n",
    "import os\n",
    "\n",
    "from tqdm import tqdm"
   ]
  },
  {
   "cell_type": "code",
   "execution_count": 3,
   "metadata": {},
   "outputs": [
    {
     "data": {
      "text/plain": [
       "device(type='cuda')"
      ]
     },
     "execution_count": 3,
     "metadata": {},
     "output_type": "execute_result"
    }
   ],
   "source": [
    "IMAGE_PATH = \"data/images/\"\n",
    "SAVE_PATH = \"data/image_representations/\"\n",
    "\n",
    "IMAGENET_MEAN = [0.485, 0.456, 0.406]\n",
    "IMAGENET_STD = [0.229, 0.224, 0.225]\n",
    "\n",
    "DEVICE = torch.device(\"cuda\" if torch.cuda.is_available() else \"cpu\")\n",
    "DEVICE"
   ]
  },
  {
   "cell_type": "code",
   "execution_count": 4,
   "metadata": {},
   "outputs": [],
   "source": [
    "transforms = transforms.Compose([\n",
    "    transforms.ToTensor(),\n",
    "    transforms.Normalize(IMAGENET_MEAN, IMAGENET_STD)])"
   ]
  },
  {
   "cell_type": "code",
   "execution_count": 5,
   "metadata": {},
   "outputs": [
    {
     "name": "stderr",
     "output_type": "stream",
     "text": [
      "C:\\Users\\damia\\AppData\\Roaming\\Python\\Python310\\site-packages\\torchvision\\models\\_utils.py:208: UserWarning: The parameter 'pretrained' is deprecated since 0.13 and may be removed in the future, please use 'weights' instead.\n",
      "  warnings.warn(\n",
      "C:\\Users\\damia\\AppData\\Roaming\\Python\\Python310\\site-packages\\torchvision\\models\\_utils.py:223: UserWarning: Arguments other than a weight enum or `None` for 'weights' are deprecated since 0.13 and may be removed in the future. The current behavior is equivalent to passing `weights=ResNet152_Weights.IMAGENET1K_V1`. You can also use `weights=ResNet152_Weights.DEFAULT` to get the most up-to-date weights.\n",
      "  warnings.warn(msg)\n",
      "Downloading: \"https://download.pytorch.org/models/resnet152-394f9c45.pth\" to C:\\Users\\damia/.cache\\torch\\hub\\checkpoints\\resnet152-394f9c45.pth\n",
      "100%|██████████| 230M/230M [00:38<00:00, 6.34MB/s] \n"
     ]
    }
   ],
   "source": [
    "visual = models.resnet152(pretrained=True)\n",
    "extracted_layers = list(visual.children())\n",
    "extracted_layers = extracted_layers[0:8] #Remove the last fc and avg pool\n",
    "visual = torch.nn.Sequential(*(list(extracted_layers)))"
   ]
  },
  {
   "cell_type": "code",
   "execution_count": 8,
   "metadata": {},
   "outputs": [],
   "source": [
    "def readImage(image_path):\n",
    "    img = io.imread(image_path)\n",
    "    return img\n",
    "\n",
    "def countImages(folder_path):\n",
    "    return len(os.listdir(folder_path))\n",
    "\n",
    "def transformImage(img, transforms):\n",
    "    img_transformed = transforms(img.copy())\n",
    "    return img_transformed\n",
    "\n",
    "def getRepresentation(image, model):\n",
    "    image = image.unsqueeze(0)\n",
    "    with torch.no_grad():  # No need to track gradients when making predictions\n",
    "        representation = model(image)\n",
    "    return representation\n",
    "\n",
    "def saveRepresentations(read_folder_path, save_folder_path, transforms, model):\n",
    "    \n",
    "    # Total number of images\n",
    "    total_images = int(countImages(read_folder_path)/2)\n",
    "\n",
    "    # set model to device\n",
    "    model.to(DEVICE)\n",
    "    model.eval()\n",
    "\n",
    "    # Looping through all images \n",
    "\n",
    "    for i in tqdm(range(total_images)):\n",
    "\n",
    "        ## Read and transform image\n",
    "        read_path = os.path.join(read_folder_path, str(i) + '.tif')\n",
    "        save_path = os.path.join(save_folder_path, str(i) + '.pt')\n",
    "\n",
    "        ## Read image\n",
    "        img = readImage(read_path)\n",
    "        \n",
    "        ## Transform image & put to DEVICE\n",
    "        img_transformed = transformImage(img, transforms)\n",
    "        img_transformed = img_transformed.to(DEVICE)\n",
    "\n",
    "        ## Get representation\n",
    "        representation = getRepresentation(img_transformed, model)\n",
    "\n",
    "        ## Move to CPU\n",
    "        #representation = representation.cpu()\n",
    "\n",
    "        ## Squeeze first dimension\n",
    "        representation = representation.squeeze(0).cpu().detach()\n",
    "\n",
    "        ## Save representation\n",
    "        saveArray(representation, save_path)\n",
    "\n",
    "def saveArray(array, path):\n",
    "    torch.save(array, path)\n",
    "\n",
    "def loadArray(path):\n",
    "    return torch.load(path)"
   ]
  },
  {
   "cell_type": "code",
   "execution_count": 9,
   "metadata": {},
   "outputs": [
    {
     "name": "stderr",
     "output_type": "stream",
     "text": [
      "  0%|          | 0/10659 [00:00<?, ?it/s]"
     ]
    },
    {
     "name": "stderr",
     "output_type": "stream",
     "text": [
      "100%|██████████| 10659/10659 [06:28<00:00, 27.42it/s]\n"
     ]
    }
   ],
   "source": [
    "saveRepresentations(IMAGE_PATH, SAVE_PATH, transforms, visual) ## Takes like 12/13 minutes to run"
   ]
  },
  {
   "cell_type": "code",
   "execution_count": null,
   "metadata": {},
   "outputs": [],
   "source": []
  }
 ],
 "metadata": {
  "kernelspec": {
   "display_name": "dl-env",
   "language": "python",
   "name": "python3"
  },
  "language_info": {
   "codemirror_mode": {
    "name": "ipython",
    "version": 3
   },
   "file_extension": ".py",
   "mimetype": "text/x-python",
   "name": "python",
   "nbconvert_exporter": "python",
   "pygments_lexer": "ipython3",
   "version": "3.10.7"
  }
 },
 "nbformat": 4,
 "nbformat_minor": 2
}
